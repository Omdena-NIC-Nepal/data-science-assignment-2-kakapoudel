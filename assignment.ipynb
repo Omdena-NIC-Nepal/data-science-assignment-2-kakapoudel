{
 "cells": [
  {
   "cell_type": "markdown",
   "metadata": {},
   "source": [
    "# Installing Necessary Libraries\n"
   ]
  },
  {
   "cell_type": "markdown",
   "metadata": {},
   "source": [
    "- Import Libraries"
   ]
  },
  {
   "cell_type": "code",
   "execution_count": 95,
   "metadata": {},
   "outputs": [],
   "source": [
    "import pandas as pd\n",
    "import numpy as np\n",
    "import matplotlib.pyplot as plt\n",
    "import seaborn as sns\n",
    "import os"
   ]
  },
  {
   "cell_type": "markdown",
   "metadata": {},
   "source": [
    "# Task 1: Setup and DataFrame Creation"
   ]
  },
  {
   "cell_type": "markdown",
   "metadata": {},
   "source": [
    "- Create a DataFrame from a dictionary"
   ]
  },
  {
   "cell_type": "code",
   "execution_count": 96,
   "metadata": {},
   "outputs": [
    {
     "name": "stdout",
     "output_type": "stream",
     "text": [
      "\n",
      "DataFrame from Dictionary:\n",
      "       Name  Age\n",
      "0    Alice   25\n",
      "1      Bob   30\n",
      "2  Charlie   35\n"
     ]
    }
   ],
   "source": [
    "data_dict = {'Name': ['Alice', 'Bob', 'Charlie'], 'Age': [25, 30, 35]}\n",
    "df_dict = pd.DataFrame(data_dict)\n",
    "print(\"\\nDataFrame from Dictionary:\\n\", df_dict)"
   ]
  },
  {
   "cell_type": "code",
   "execution_count": 97,
   "metadata": {},
   "outputs": [
    {
     "name": "stdout",
     "output_type": "stream",
     "text": [
      "\n",
      "DataFrame from List of Dictionaries:\n",
      "     Name  Age\n",
      "0  David   40\n",
      "1    Eve   45\n"
     ]
    }
   ],
   "source": [
    "\n",
    "data_list_dicts = [{'Name': 'David', 'Age': 40}, {'Name': 'Eve', 'Age': 45}]\n",
    "df_list_dicts = pd.DataFrame(data_list_dicts)\n",
    "print(\"\\nDataFrame from List of Dictionaries:\\n\", df_list_dicts)"
   ]
  },
  {
   "cell_type": "markdown",
   "metadata": {},
   "source": [
    "- Checking the current working directory and list files\n"
   ]
  },
  {
   "cell_type": "code",
   "execution_count": 98,
   "metadata": {},
   "outputs": [
    {
     "name": "stdout",
     "output_type": "stream",
     "text": [
      "Current Working Directory: /home/kakapoudel7/github-classroom/Omdena-NIC-Nepal/data-science-assignment-2-kakapoudel\n",
      "Files in the Current Directory: ['SaleData.xlsx', 'messed_dataset.csv', 'output.xlsx', '.github', 'README.md', 'output.csv', 'assignment.ipynb', '.git']\n"
     ]
    }
   ],
   "source": [
    "import os\n",
    "\n",
    "print(\"Current Working Directory:\", os.getcwd())\n",
    "print(\"Files in the Current Directory:\", os.listdir())"
   ]
  },
  {
   "cell_type": "markdown",
   "metadata": {},
   "source": [
    "- Create a DataFrame from a list of dictionaries"
   ]
  },
  {
   "cell_type": "code",
   "execution_count": 99,
   "metadata": {},
   "outputs": [
    {
     "name": "stdout",
     "output_type": "stream",
     "text": [
      "\n",
      "DataFrame from List of Dictionaries:\n",
      "    Name  Age     City\n",
      "0  Dave   40  Chicago\n",
      "1   Eva   45    Miami\n"
     ]
    }
   ],
   "source": [
    "data_list = [\n",
    "    {'Name': 'Dave', 'Age': 40, 'City': 'Chicago'},\n",
    "    {'Name': 'Eva', 'Age': 45, 'City': 'Miami'}\n",
    "]\n",
    "df_list = pd.DataFrame(data_list)\n",
    "print(\"\\nDataFrame from List of Dictionaries:\\n\", df_list)"
   ]
  },
  {
   "cell_type": "markdown",
   "metadata": {},
   "source": [
    "- Load a dataset from a CSV file"
   ]
  },
  {
   "cell_type": "code",
   "execution_count": 100,
   "metadata": {},
   "outputs": [
    {
     "name": "stdout",
     "output_type": "stream",
     "text": [
      "\n",
      "CSV file loaded successfully.\n",
      "\n"
     ]
    }
   ],
   "source": [
    "import pandas as pd\n",
    "\n",
    "\n",
    "try:\n",
    "    df_csv = pd.read_csv(messed_dataset.csv)\n",
    "    print(\"\\nCSV file loaded successfully.\\n\")\n",
    "except FileNotFoundError as e:\n",
    "    print(f\"File '{messed_dataset.csv}' not found. Please ensure the path is correct.\")\n",
    "    print(e)\n"
   ]
  },
  {
   "cell_type": "markdown",
   "metadata": {},
   "source": [
    "- Load the dataset"
   ]
  },
  {
   "cell_type": "code",
   "execution_count": 101,
   "metadata": {},
   "outputs": [
    {
     "name": "stdout",
     "output_type": "stream",
     "text": [
      "                Name   Age                Email      Country    Salary  \\\n",
      "0            invalid  59.0  ycastro@example.org  Switzerland  44694.24   \n",
      "1    David Jefferson  21.0                  NaN        China       NaN   \n",
      "2      Jessica Reyes  34.0                  NaN          NaN  60511.62   \n",
      "3  Kenneth Macdonald  68.0    ewolf@example.com        Italy  84223.29   \n",
      "4        Julie Horne  78.0                  NaN      Ecuador  24665.13   \n",
      "\n",
      "  DateOfJoining  \n",
      "0    2022-09-29  \n",
      "1    2021-10-04  \n",
      "2    2022-05-24  \n",
      "3    2022-04-07  \n",
      "4    2020-06-19  \n"
     ]
    }
   ],
   "source": [
    "df = pd.read_csv('messed_dataset.csv')\n",
    "print(df.head())"
   ]
  },
  {
   "cell_type": "markdown",
   "metadata": {},
   "source": [
    "# Task 2: Viewing and Inspecting Data"
   ]
  },
  {
   "cell_type": "markdown",
   "metadata": {},
   "source": [
    "- Display the first and last few rows of the DataFrame"
   ]
  },
  {
   "cell_type": "code",
   "execution_count": 102,
   "metadata": {},
   "outputs": [
    {
     "name": "stdout",
     "output_type": "stream",
     "text": [
      "First few rows of the DataFrame:\n",
      "                 Name   Age                Email      Country    Salary  \\\n",
      "0            invalid  59.0  ycastro@example.org  Switzerland  44694.24   \n",
      "1    David Jefferson  21.0                  NaN        China       NaN   \n",
      "2      Jessica Reyes  34.0                  NaN          NaN  60511.62   \n",
      "3  Kenneth Macdonald  68.0    ewolf@example.com        Italy  84223.29   \n",
      "4        Julie Horne  78.0                  NaN      Ecuador  24665.13   \n",
      "\n",
      "  DateOfJoining  \n",
      "0    2022-09-29  \n",
      "1    2021-10-04  \n",
      "2    2022-05-24  \n",
      "3    2022-04-07  \n",
      "4    2020-06-19  \n",
      "\n",
      "Last few rows of the DataFrame:\n",
      "                   Name   Age                     Email            Country  \\\n",
      "95    Garrett Davidson  56.0        gjames@example.com    Solomon Islands   \n",
      "96      Elizabeth Ross  52.0  richardlewis@example.net  Equatorial Guinea   \n",
      "97                 NaN  72.0       brian50@example.com            Somalia   \n",
      "98      Patricia Singh  65.0      lramirez@example.org             Greece   \n",
      "99  Christopher Stokes  42.0                       NaN       South Africa   \n",
      "\n",
      "      Salary DateOfJoining  \n",
      "95  86227.88           NaN  \n",
      "96  29992.69    2020-04-08  \n",
      "97  90628.22    2020-04-11  \n",
      "98  85290.44    2020-03-18  \n",
      "99  20289.17    2021-09-23  \n"
     ]
    }
   ],
   "source": [
    "print(\"First few rows of the DataFrame:\\n\", df_csv.head())\n",
    "print(\"\\nLast few rows of the DataFrame:\\n\", df_csv.tail())"
   ]
  },
  {
   "cell_type": "markdown",
   "metadata": {},
   "source": [
    "- Get a summary of the DataFrame, including basic statistics and data types"
   ]
  },
  {
   "cell_type": "code",
   "execution_count": 103,
   "metadata": {},
   "outputs": [
    {
     "name": "stdout",
     "output_type": "stream",
     "text": [
      "<class 'pandas.core.frame.DataFrame'>\n",
      "RangeIndex: 100 entries, 0 to 99\n",
      "Data columns (total 6 columns):\n",
      " #   Column         Non-Null Count  Dtype \n",
      "---  ------         --------------  ----- \n",
      " 0   Name           89 non-null     object\n",
      " 1   Age            97 non-null     object\n",
      " 2   Email          80 non-null     object\n",
      " 3   Country        86 non-null     object\n",
      " 4   Salary         94 non-null     object\n",
      " 5   DateOfJoining  79 non-null     object\n",
      "dtypes: object(6)\n",
      "memory usage: 4.8+ KB\n",
      "\n",
      "Summary of the DataFrame:\n",
      " None\n",
      "\n",
      "Basic statistics of the DataFrame:\n",
      "            Name   Age                Email Country   Salary DateOfJoining\n",
      "count        89    97                   80      86       94            79\n",
      "unique       85    53                   80      76       93            79\n",
      "top     invalid  76.0  ycastro@example.org  Greece  invalid    2022-09-29\n",
      "freq          5     6                    1       2        2             1\n"
     ]
    }
   ],
   "source": [
    "print(\"\\nSummary of the DataFrame:\\n\", df_csv.info())\n",
    "print(\"\\nBasic statistics of the DataFrame:\\n\", df_csv.describe())"
   ]
  },
  {
   "cell_type": "markdown",
   "metadata": {},
   "source": [
    "- Display the shape and column names of the DataFrame"
   ]
  },
  {
   "cell_type": "code",
   "execution_count": 104,
   "metadata": {},
   "outputs": [
    {
     "name": "stdout",
     "output_type": "stream",
     "text": [
      "\n",
      "Shape of the DataFrame: (100, 6)\n",
      "Column names of the DataFrame: Index(['Name', 'Age', 'Email', 'Country', 'Salary', 'DateOfJoining'], dtype='object')\n"
     ]
    }
   ],
   "source": [
    "print(\"\\nShape of the DataFrame:\", df_csv.shape)\n",
    "print(\"Column names of the DataFrame:\", df_csv.columns)"
   ]
  },
  {
   "cell_type": "markdown",
   "metadata": {},
   "source": [
    "# Task 3: Selection and Indexing"
   ]
  },
  {
   "cell_type": "markdown",
   "metadata": {},
   "source": [
    "- Select a single column and multiple columns"
   ]
  },
  {
   "cell_type": "code",
   "execution_count": 105,
   "metadata": {},
   "outputs": [
    {
     "name": "stdout",
     "output_type": "stream",
     "text": [
      "\n",
      "Single Column:\n",
      " 0              invalid\n",
      "1      David Jefferson\n",
      "2        Jessica Reyes\n",
      "3    Kenneth Macdonald\n",
      "4          Julie Horne\n",
      "Name: Name, dtype: object\n",
      "\n",
      "Multiple Columns:\n",
      "                 Name   Age\n",
      "0            invalid  59.0\n",
      "1    David Jefferson  21.0\n",
      "2      Jessica Reyes  34.0\n",
      "3  Kenneth Macdonald  68.0\n",
      "4        Julie Horne  78.0\n"
     ]
    }
   ],
   "source": [
    "single_column = df_csv['Name']\n",
    "multiple_columns = df_csv[['Name', 'Age']]\n",
    "print(\"\\nSingle Column:\\n\", single_column.head())\n",
    "print(\"\\nMultiple Columns:\\n\", multiple_columns.head())"
   ]
  },
  {
   "cell_type": "markdown",
   "metadata": {},
   "source": [
    "- Select rows by index and by label"
   ]
  },
  {
   "cell_type": "code",
   "execution_count": 106,
   "metadata": {},
   "outputs": [
    {
     "name": "stdout",
     "output_type": "stream",
     "text": [
      "\n",
      "Row by Index:\n",
      " Name                         invalid\n",
      "Age                             59.0\n",
      "Email            ycastro@example.org\n",
      "Country                  Switzerland\n",
      "Salary                      44694.24\n",
      "DateOfJoining             2022-09-29\n",
      "Name: 0, dtype: object\n",
      "\n",
      "Row by Label:\n",
      " Name                         invalid\n",
      "Age                             59.0\n",
      "Email            ycastro@example.org\n",
      "Country                  Switzerland\n",
      "Salary                      44694.24\n",
      "DateOfJoining             2022-09-29\n",
      "Name: 0, dtype: object\n"
     ]
    }
   ],
   "source": [
    "row_by_index = df_csv.iloc[0]\n",
    "row_by_label = df_csv.loc[0]\n",
    "print(\"\\nRow by Index:\\n\", row_by_index)\n",
    "print(\"\\nRow by Label:\\n\", row_by_label)"
   ]
  },
  {
   "cell_type": "markdown",
   "metadata": {},
   "source": [
    "- Select specific rows and columns using loc and iloc"
   ]
  },
  {
   "cell_type": "code",
   "execution_count": 107,
   "metadata": {},
   "outputs": [
    {
     "name": "stdout",
     "output_type": "stream",
     "text": [
      "Name                         invalid\n",
      "Age                             59.0\n",
      "Email            ycastro@example.org\n",
      "Country                  Switzerland\n",
      "Salary                      44694.24\n",
      "DateOfJoining             2022-09-29\n",
      "Name: 0, dtype: object\n",
      "\n",
      "Specific Selection using loc: invalid\n"
     ]
    }
   ],
   "source": [
    "import pandas as pd\n",
    "\n",
    "# Load the CSV file into a DataFrame\n",
    "df_csv = pd.read_csv(messed_dataset.csv)\n",
    "\n",
    "# Display the entire first row to inspect its contents\n",
    "print(df_csv.iloc[0])\n",
    "\n",
    "# Specific selection using loc and iloc\n",
    "specific_loc = df_csv.loc[0, 'Name']\n",
    "specific_iloc = df_csv.iloc[0, 0]\n",
    "\n",
    "print(\"\\nSpecific Selection using loc:\", specific_loc)"
   ]
  },
  {
   "cell_type": "markdown",
   "metadata": {},
   "source": [
    "# Task 4: Handling Missing Data"
   ]
  },
  {
   "cell_type": "markdown",
   "metadata": {},
   "source": [
    "- Identify missing values in the DataFrame"
   ]
  },
  {
   "cell_type": "code",
   "execution_count": 108,
   "metadata": {},
   "outputs": [
    {
     "name": "stdout",
     "output_type": "stream",
     "text": [
      "\n",
      "Missing Values:\n",
      " Name             11\n",
      "Age               3\n",
      "Email            20\n",
      "Country          14\n",
      "Salary            6\n",
      "DateOfJoining    21\n",
      "dtype: int64\n"
     ]
    }
   ],
   "source": [
    "print(\"\\nMissing Values:\\n\", df_csv.isnull().sum())"
   ]
  },
  {
   "cell_type": "markdown",
   "metadata": {},
   "source": [
    "- Drop rows with missing values"
   ]
  },
  {
   "cell_type": "code",
   "execution_count": 109,
   "metadata": {},
   "outputs": [
    {
     "name": "stdout",
     "output_type": "stream",
     "text": [
      "\n",
      "DataFrame without Missing Values:\n",
      "                       Name      Age                        Email  \\\n",
      "0                  invalid     59.0          ycastro@example.org   \n",
      "3        Kenneth Macdonald     68.0            ewolf@example.com   \n",
      "5         Jonathan Holland     26.0     mayercaitlin@example.org   \n",
      "7         Kimberly Roberts     76.0          lmiller@example.org   \n",
      "9              Jason Perez     59.0    collinsedward@example.com   \n",
      "10           Olivia Strong     76.0  schultzpatricia@example.com   \n",
      "13          Jessica Rivera     73.0        fmitchell@example.net   \n",
      "15           Lauren Becker     30.0    watsonjeffrey@example.net   \n",
      "20           Dylan Simpson     46.0        jessica74@example.net   \n",
      "23              Karen Ward     56.0         daniel47@example.com   \n",
      "24              Amy Henson     80.0       tylerwatts@example.org   \n",
      "28           Ricardo Moody     76.0         xmorales@example.net   \n",
      "29          Stephanie Moss     61.0         qvaughan@example.com   \n",
      "35           Rebecca Davis     35.0  wallacejennifer@example.net   \n",
      "36         Keith Velazquez     22.0        charles82@example.net   \n",
      "37      Christopher Martin     40.0           tina11@example.com   \n",
      "40                 invalid     64.0         mjackson@example.org   \n",
      "43             James Davis  invalid         teresa22@example.com   \n",
      "44            Brandi White     35.0            mhall@example.net   \n",
      "49           Amber Mendoza     64.0        qrobinson@example.com   \n",
      "51          Whitney Graham     40.0       zrodriguez@example.org   \n",
      "52       Patrick Brown PhD     44.0          james16@example.net   \n",
      "58  Dr. Olivia Caldwell MD     76.0   hernandezjason@example.com   \n",
      "59             Diane Smith     57.0          david44@example.net   \n",
      "60          Thomas Navarro     50.0          psnyder@example.org   \n",
      "61          Terri Phillips     27.0     garyanderson@example.net   \n",
      "64           Andrew Bryant     43.0      jacobtorres@example.com   \n",
      "68           Justin Wright     29.0    elizabethreid@example.org   \n",
      "69        Michael Oconnell     19.0        fdelacruz@example.org   \n",
      "70        Christina Garcia     40.0        kathryn18@example.org   \n",
      "72            Morgan Brown     79.0           wsmith@example.org   \n",
      "73          Mitchell Smith     32.0          spierce@example.com   \n",
      "74          Whitney Garcia     70.0      tylergolden@example.com   \n",
      "78         Tabitha Delgado     74.0    lancewilliams@example.net   \n",
      "80            David Walker     43.0          linda84@example.net   \n",
      "81             Brandi Long     45.0            vford@example.com   \n",
      "82         Kristi Calderon     80.0         sharon04@example.com   \n",
      "83            Kendra Mason     47.0      megancarter@example.com   \n",
      "84           Debbie Romero     58.0      nathaniel61@example.net   \n",
      "85     Elizabeth Wilkinson     66.0     gailmcdonald@example.org   \n",
      "86           David Randall     74.0           cody30@example.net   \n",
      "87             Nancy Irwin     42.0      juliaweaver@example.net   \n",
      "88             Joel Martin     76.0        bjacobson@example.com   \n",
      "89            Lauren Jones     68.0      melissadyer@example.com   \n",
      "91          Ryan Middleton     42.0  mcconnellashley@example.net   \n",
      "92            Seth Bradley     76.0       melissakim@example.org   \n",
      "93           Alicia Miller     59.0         thomas45@example.net   \n",
      "94            Cody Jackson     48.0       jamieayers@example.net   \n",
      "96          Elizabeth Ross     52.0     richardlewis@example.net   \n",
      "98          Patricia Singh     65.0         lramirez@example.org   \n",
      "\n",
      "                                              Country    Salary DateOfJoining  \n",
      "0                                         Switzerland  44694.24    2022-09-29  \n",
      "3                                               Italy  84223.29    2022-04-07  \n",
      "5                                            Cameroon  25660.99    2023-05-01  \n",
      "7                                         Netherlands  58550.56    2023-07-08  \n",
      "9                                             Myanmar  20175.11    2024-04-11  \n",
      "10                                       South Africa  72362.02    2023-07-27  \n",
      "13                           Central African Republic  71261.36    2021-05-18  \n",
      "15                                              Malta   invalid    2020-01-13  \n",
      "20                                             Serbia   59670.5    2021-10-31  \n",
      "23                                              Congo   83580.8    2022-04-09  \n",
      "24                             Bosnia and Herzegovina  35390.77    2023-12-11  \n",
      "28                                            Bahrain  83514.58    2024-03-29  \n",
      "29                                           Guernsey  35671.38    2021-11-22  \n",
      "35                                          Sri Lanka  66871.64    2022-08-06  \n",
      "36                                       Burkina Faso  81661.97    2024-03-27  \n",
      "37                               Netherlands Antilles  81367.57    2020-07-30  \n",
      "40  British Indian Ocean Territory (Chagos Archipe...   25219.6    2024-02-14  \n",
      "43                                          Mauritius   54801.7    2021-07-15  \n",
      "44                                           Tanzania  21408.87    2020-11-26  \n",
      "49                                             Uganda  47293.85    2021-05-27  \n",
      "51                                         Mozambique  98826.59    2023-05-08  \n",
      "52                                             Greece   83842.6    2020-07-12  \n",
      "58                                        Philippines  78453.84    2023-07-19  \n",
      "59                                   Saint Barthelemy  86579.95    2020-07-27  \n",
      "60                           Turks and Caicos Islands  86286.69    2020-11-03  \n",
      "61                                           Cambodia  47755.97       invalid  \n",
      "64                                           Colombia  32205.53    2020-10-26  \n",
      "68                                        Timor-Leste  28951.24    2020-02-21  \n",
      "69                                            Grenada  62929.05    2022-01-21  \n",
      "70                                            invalid  73916.51    2023-11-13  \n",
      "72                                         Cape Verde  28583.22    2021-03-12  \n",
      "73                                            Armenia  57795.75    2021-04-19  \n",
      "74                               Netherlands Antilles  68794.39    2022-07-23  \n",
      "78                                              Sudan  98396.21    2022-04-03  \n",
      "80                                      Guinea-Bissau  89683.17    2021-06-20  \n",
      "81                                            Ecuador  30773.53    2020-06-29  \n",
      "82                                            Iceland  99507.66    2022-07-09  \n",
      "83                                            Moldova  34369.87    2023-07-09  \n",
      "84                                            Reunion  39875.14    2023-02-11  \n",
      "85                                       Turkmenistan  69624.01    2023-05-19  \n",
      "86                                               Niue  43013.14    2024-05-24  \n",
      "87                                     Czech Republic   29455.0    2020-07-21  \n",
      "88                                              Korea   invalid    2022-05-23  \n",
      "89                                             Malawi  42435.96    2020-06-12  \n",
      "91                                            Bahamas  78048.75    2021-04-05  \n",
      "92                         Slovakia (Slovak Republic)  49354.13    2021-08-01  \n",
      "93                                         Mauritania  52834.29    2020-06-03  \n",
      "94                                         Luxembourg  55583.62    2021-05-23  \n",
      "96                                  Equatorial Guinea  29992.69    2020-04-08  \n",
      "98                                             Greece  85290.44    2020-03-18  \n"
     ]
    }
   ],
   "source": [
    "df_no_missing = df_csv.dropna()\n",
    "print(\"\\nDataFrame without Missing Values:\\n\", df_no_missing)"
   ]
  },
  {
   "cell_type": "markdown",
   "metadata": {},
   "source": [
    "- Fill missing values with a specified value"
   ]
  },
  {
   "cell_type": "code",
   "execution_count": 110,
   "metadata": {},
   "outputs": [
    {
     "name": "stdout",
     "output_type": "stream",
     "text": [
      "\n",
      "DataFrame with Missing Values Filled:\n",
      "                   Name   Age                     Email            Country  \\\n",
      "0              invalid  59.0       ycastro@example.org        Switzerland   \n",
      "1      David Jefferson  21.0                       N/A              China   \n",
      "2        Jessica Reyes  34.0                       N/A                N/A   \n",
      "3    Kenneth Macdonald  68.0         ewolf@example.com              Italy   \n",
      "4          Julie Horne  78.0                       N/A            Ecuador   \n",
      "..                 ...   ...                       ...                ...   \n",
      "95    Garrett Davidson  56.0        gjames@example.com    Solomon Islands   \n",
      "96      Elizabeth Ross  52.0  richardlewis@example.net  Equatorial Guinea   \n",
      "97                 N/A  72.0       brian50@example.com            Somalia   \n",
      "98      Patricia Singh  65.0      lramirez@example.org             Greece   \n",
      "99  Christopher Stokes  42.0                       N/A       South Africa   \n",
      "\n",
      "      Salary DateOfJoining  \n",
      "0   44694.24    2022-09-29  \n",
      "1        N/A    2021-10-04  \n",
      "2   60511.62    2022-05-24  \n",
      "3   84223.29    2022-04-07  \n",
      "4   24665.13    2020-06-19  \n",
      "..       ...           ...  \n",
      "95  86227.88           N/A  \n",
      "96  29992.69    2020-04-08  \n",
      "97  90628.22    2020-04-11  \n",
      "98  85290.44    2020-03-18  \n",
      "99  20289.17    2021-09-23  \n",
      "\n",
      "[100 rows x 6 columns]\n"
     ]
    }
   ],
   "source": [
    "df_filled = df_csv.fillna('N/A')\n",
    "print(\"\\nDataFrame with Missing Values Filled:\\n\", df_filled)"
   ]
  },
  {
   "cell_type": "markdown",
   "metadata": {},
   "source": [
    "# Task 5: Data Operations"
   ]
  },
  {
   "cell_type": "markdown",
   "metadata": {},
   "source": [
    "- Add a new column to the DataFrame"
   ]
  },
  {
   "cell_type": "code",
   "execution_count": 111,
   "metadata": {},
   "outputs": [
    {
     "name": "stdout",
     "output_type": "stream",
     "text": [
      "\n",
      "DataFrame with New Column:\n",
      "                 Name   Age                Email      Country    Salary  \\\n",
      "0            invalid  59.0  ycastro@example.org  Switzerland  44694.24   \n",
      "1    David Jefferson  21.0                  NaN        China       NaN   \n",
      "2      Jessica Reyes  34.0                  NaN          NaN  60511.62   \n",
      "3  Kenneth Macdonald  68.0    ewolf@example.com        Italy  84223.29   \n",
      "4        Julie Horne  78.0                  NaN      Ecuador  24665.13   \n",
      "\n",
      "  DateOfJoining New_Column  \n",
      "0    2022-09-29  New Value  \n",
      "1    2021-10-04  New Value  \n",
      "2    2022-05-24  New Value  \n",
      "3    2022-04-07  New Value  \n",
      "4    2020-06-19  New Value  \n"
     ]
    }
   ],
   "source": [
    "df_csv['New_Column'] = 'New Value'\n",
    "print(\"\\nDataFrame with New Column:\\n\", df_csv.head())"
   ]
  },
  {
   "cell_type": "markdown",
   "metadata": {},
   "source": [
    "- Delete a column from the DataFrame"
   ]
  },
  {
   "cell_type": "code",
   "execution_count": 112,
   "metadata": {},
   "outputs": [
    {
     "name": "stdout",
     "output_type": "stream",
     "text": [
      "\n",
      "DataFrame after Deleting Column:\n",
      "                 Name   Age                Email      Country    Salary  \\\n",
      "0            invalid  59.0  ycastro@example.org  Switzerland  44694.24   \n",
      "1    David Jefferson  21.0                  NaN        China       NaN   \n",
      "2      Jessica Reyes  34.0                  NaN          NaN  60511.62   \n",
      "3  Kenneth Macdonald  68.0    ewolf@example.com        Italy  84223.29   \n",
      "4        Julie Horne  78.0                  NaN      Ecuador  24665.13   \n",
      "\n",
      "  DateOfJoining  \n",
      "0    2022-09-29  \n",
      "1    2021-10-04  \n",
      "2    2022-05-24  \n",
      "3    2022-04-07  \n",
      "4    2020-06-19  \n"
     ]
    }
   ],
   "source": [
    "df_csv.drop('New_Column', axis=1, inplace=True)\n",
    "print(\"\\nDataFrame after Deleting Column:\\n\", df_csv.head())"
   ]
  },
  {
   "cell_type": "markdown",
   "metadata": {},
   "source": [
    "- Rename columns in the DataFrame"
   ]
  },
  {
   "cell_type": "code",
   "execution_count": 113,
   "metadata": {},
   "outputs": [
    {
     "name": "stdout",
     "output_type": "stream",
     "text": [
      "\n",
      "DataFrame with Renamed Columns:\n",
      "            Full_Name   Age                Email      Country    Salary  \\\n",
      "0            invalid  59.0  ycastro@example.org  Switzerland  44694.24   \n",
      "1    David Jefferson  21.0                  NaN        China       NaN   \n",
      "2      Jessica Reyes  34.0                  NaN          NaN  60511.62   \n",
      "3  Kenneth Macdonald  68.0    ewolf@example.com        Italy  84223.29   \n",
      "4        Julie Horne  78.0                  NaN      Ecuador  24665.13   \n",
      "\n",
      "  DateOfJoining  \n",
      "0    2022-09-29  \n",
      "1    2021-10-04  \n",
      "2    2022-05-24  \n",
      "3    2022-04-07  \n",
      "4    2020-06-19  \n"
     ]
    }
   ],
   "source": [
    "df_csv.rename(columns={'Name': 'Full_Name'}, inplace=True)\n",
    "print(\"\\nDataFrame with Renamed Columns:\\n\", df_csv.head())"
   ]
  },
  {
   "cell_type": "markdown",
   "metadata": {},
   "source": [
    "- Apply a function to a column"
   ]
  },
  {
   "cell_type": "code",
   "execution_count": 114,
   "metadata": {},
   "outputs": [
    {
     "name": "stdout",
     "output_type": "stream",
     "text": [
      "\n",
      "DataFrame with Applied Function:\n",
      "            Full_Name   Age                Email      Country    Salary  \\\n",
      "0            invalid  59.0  ycastro@example.org  Switzerland  44694.24   \n",
      "1    David Jefferson  21.0                  NaN        China       NaN   \n",
      "2      Jessica Reyes  34.0                  NaN          NaN  60511.62   \n",
      "3  Kenneth Macdonald  68.0    ewolf@example.com        Italy  84223.29   \n",
      "4        Julie Horne  78.0                  NaN      Ecuador  24665.13   \n",
      "\n",
      "  DateOfJoining  Age_plus_10  \n",
      "0    2022-09-29         69.0  \n",
      "1    2021-10-04         31.0  \n",
      "2    2022-05-24         44.0  \n",
      "3    2022-04-07         78.0  \n",
      "4    2020-06-19         88.0  \n"
     ]
    }
   ],
   "source": [
    "import pandas as pd\n",
    "\n",
    "df_csv['Age'] = pd.to_numeric(df_csv['Age'], errors='coerce')\n",
    "df_csv['Age_plus_10'] = df_csv['Age'].apply(lambda x: x + 10 if pd.notnull(x) else x)\n",
    "print(\"\\nDataFrame with Applied Function:\\n\", df_csv.head())\n"
   ]
  },
  {
   "cell_type": "markdown",
   "metadata": {},
   "source": [
    "# Task 6: GroupBy Operations"
   ]
  },
  {
   "cell_type": "markdown",
   "metadata": {},
   "source": [
    "- Group the DataFrame by a column and calculate summary statistics"
   ]
  },
  {
   "cell_type": "code",
   "execution_count": 115,
   "metadata": {},
   "outputs": [
    {
     "name": "stdout",
     "output_type": "stream",
     "text": [
      "\n",
      "Group By Column:\n",
      "             Age  Age_plus_10\n",
      "Country                     \n",
      "Albania    73.0         83.0\n",
      "Angola     52.0         62.0\n",
      "Anguilla   59.0         69.0\n",
      "Armenia    32.0         42.0\n",
      "Bahamas    42.0         52.0\n",
      "...         ...          ...\n",
      "Uganda     64.0         74.0\n",
      "Venezuela   NaN          NaN\n",
      "Yemen      41.0         51.0\n",
      "Zambia     80.0         90.0\n",
      "invalid    40.0         50.0\n",
      "\n",
      "[76 rows x 2 columns]\n"
     ]
    }
   ],
   "source": [
    "group_by_column = df_csv.groupby('Country').mean(numeric_only=True)\n",
    "print(\"\\nGroup By Column:\\n\", group_by_column)"
   ]
  },
  {
   "cell_type": "markdown",
   "metadata": {},
   "source": [
    "- Iterate over groups and display the group names and data"
   ]
  },
  {
   "cell_type": "code",
   "execution_count": 116,
   "metadata": {},
   "outputs": [
    {
     "name": "stdout",
     "output_type": "stream",
     "text": [
      "\n",
      "Group Name: Albania\n",
      "          Full_Name   Age                       Email  Country Salary  \\\n",
      "76  Angela Thompson  73.0  petersonshelby@example.org  Albania    NaN   \n",
      "\n",
      "   DateOfJoining  Age_plus_10  \n",
      "76    2023-05-09         83.0  \n",
      "\n",
      "Group Name: Angola\n",
      "       Full_Name   Age                    Email Country    Salary  \\\n",
      "41  Nichole Mora  52.0  turnersarah@example.net  Angola  64674.33   \n",
      "\n",
      "   DateOfJoining  Age_plus_10  \n",
      "41           NaN         62.0  \n",
      "\n",
      "Group Name: Anguilla\n",
      "   Full_Name   Age              Email   Country    Salary DateOfJoining  \\\n",
      "26       NaN  59.0  amy02@example.net  Anguilla  56583.58           NaN   \n",
      "\n",
      "    Age_plus_10  \n",
      "26         69.0  \n",
      "\n",
      "Group Name: Armenia\n",
      "         Full_Name   Age                Email  Country    Salary  \\\n",
      "73  Mitchell Smith  32.0  spierce@example.com  Armenia  57795.75   \n",
      "\n",
      "   DateOfJoining  Age_plus_10  \n",
      "73    2021-04-19         42.0  \n",
      "\n",
      "Group Name: Bahamas\n",
      "         Full_Name   Age                        Email  Country    Salary  \\\n",
      "91  Ryan Middleton  42.0  mcconnellashley@example.net  Bahamas  78048.75   \n",
      "\n",
      "   DateOfJoining  Age_plus_10  \n",
      "91    2021-04-05         52.0  \n",
      "\n",
      "Group Name: Bahrain\n",
      "        Full_Name   Age                 Email  Country    Salary  \\\n",
      "28  Ricardo Moody  76.0  xmorales@example.net  Bahrain  83514.58   \n",
      "\n",
      "   DateOfJoining  Age_plus_10  \n",
      "28    2024-03-29         86.0  \n",
      "\n",
      "Group Name: Barbados\n",
      "   Full_Name   Age                      Email   Country    Salary  \\\n",
      "32       NaN  57.0  danielperkins@example.org  Barbados  78620.54   \n",
      "\n",
      "   DateOfJoining  Age_plus_10  \n",
      "32    2024-05-17         67.0  \n",
      "\n",
      "Group Name: Belgium\n",
      "       Full_Name   Age Email  Country   Salary DateOfJoining  Age_plus_10\n",
      "71  Chase Parker  27.0   NaN  Belgium  28097.5           NaN         37.0\n",
      "\n",
      "Group Name: Bolivia\n",
      "   Full_Name   Age Email  Country    Salary DateOfJoining  Age_plus_10\n",
      "19  Amy Sims  31.0   NaN  Bolivia  51559.83    2023-08-22         41.0\n",
      "\n",
      "Group Name: Bosnia and Herzegovina\n",
      "     Full_Name   Age                   Email                 Country  \\\n",
      "24  Amy Henson  80.0  tylerwatts@example.org  Bosnia and Herzegovina   \n",
      "\n",
      "      Salary DateOfJoining  Age_plus_10  \n",
      "24  35390.77    2023-12-11         90.0  \n",
      "\n",
      "Group Name: Bouvet Island (Bouvetoya)\n",
      "   Full_Name   Age Email                    Country    Salary DateOfJoining  \\\n",
      "25       NaN  20.0   NaN  Bouvet Island (Bouvetoya)  73892.64    2023-08-26   \n",
      "\n",
      "    Age_plus_10  \n",
      "25         30.0  \n",
      "\n",
      "Group Name: British Indian Ocean Territory (Chagos Archipelago)\n",
      "          Full_Name   Age                 Email  \\\n",
      "40          invalid  64.0  mjackson@example.org   \n",
      "63  Wesley Whitaker  47.0                   NaN   \n",
      "\n",
      "                                              Country    Salary DateOfJoining  \\\n",
      "40  British Indian Ocean Territory (Chagos Archipe...   25219.6    2024-02-14   \n",
      "63  British Indian Ocean Territory (Chagos Archipe...  97832.79    2020-12-20   \n",
      "\n",
      "    Age_plus_10  \n",
      "40         74.0  \n",
      "63         57.0  \n",
      "\n",
      "Group Name: Burkina Faso\n",
      "          Full_Name   Age                  Email       Country    Salary  \\\n",
      "36  Keith Velazquez  22.0  charles82@example.net  Burkina Faso  81661.97   \n",
      "\n",
      "   DateOfJoining  Age_plus_10  \n",
      "36    2024-03-27         32.0  \n",
      "\n",
      "Group Name: Burundi\n",
      "        Full_Name   Age               Email  Country Salary DateOfJoining  \\\n",
      "34  David Shields  55.0  brad93@example.net  Burundi    NaN    2023-11-27   \n",
      "\n",
      "    Age_plus_10  \n",
      "34         65.0  \n",
      "\n",
      "Group Name: Cambodia\n",
      "         Full_Name   Age                     Email   Country    Salary  \\\n",
      "61  Terri Phillips  27.0  garyanderson@example.net  Cambodia  47755.97   \n",
      "\n",
      "   DateOfJoining  Age_plus_10  \n",
      "61       invalid         37.0  \n",
      "\n",
      "Group Name: Cameroon\n",
      "          Full_Name   Age                     Email   Country    Salary  \\\n",
      "5  Jonathan Holland  26.0  mayercaitlin@example.org  Cameroon  25660.99   \n",
      "\n",
      "  DateOfJoining  Age_plus_10  \n",
      "5    2023-05-01         36.0  \n",
      "\n",
      "Group Name: Cape Verde\n",
      "       Full_Name   Age               Email     Country    Salary  \\\n",
      "72  Morgan Brown  79.0  wsmith@example.org  Cape Verde  28583.22   \n",
      "\n",
      "   DateOfJoining  Age_plus_10  \n",
      "72    2021-03-12         89.0  \n",
      "\n",
      "Group Name: Central African Republic\n",
      "         Full_Name   Age                  Email                   Country  \\\n",
      "13  Jessica Rivera  73.0  fmitchell@example.net  Central African Republic   \n",
      "\n",
      "      Salary DateOfJoining  Age_plus_10  \n",
      "13  71261.36    2021-05-18         83.0  \n",
      "\n",
      "Group Name: Chile\n",
      "          Full_Name   Age                     Email Country Salary  \\\n",
      "48  Charles Sanchez  28.0  jenkinsmaria@example.net   Chile    NaN   \n",
      "\n",
      "   DateOfJoining  Age_plus_10  \n",
      "48           NaN         38.0  \n",
      "\n",
      "Group Name: China\n",
      "          Full_Name   Age Email Country    Salary DateOfJoining  Age_plus_10\n",
      "1   David Jefferson  21.0   NaN   China       NaN    2021-10-04         31.0\n",
      "42   Calvin Herrera  21.0   NaN   China  50975.46           NaN         31.0\n",
      "\n",
      "Group Name: Cocos (Keeling) Islands\n",
      "       Full_Name   Age                   Email                  Country  \\\n",
      "11  Keith Deleon  56.0  josephwall@example.com  Cocos (Keeling) Islands   \n",
      "\n",
      "      Salary DateOfJoining  Age_plus_10  \n",
      "11  23361.13           NaN         66.0  \n",
      "\n",
      "Group Name: Colombia\n",
      "        Full_Name   Age                    Email   Country    Salary  \\\n",
      "64  Andrew Bryant  43.0  jacobtorres@example.com  Colombia  32205.53   \n",
      "\n",
      "   DateOfJoining  Age_plus_10  \n",
      "64    2020-10-26         53.0  \n",
      "\n",
      "Group Name: Congo\n",
      "     Full_Name   Age                 Email Country   Salary DateOfJoining  \\\n",
      "23  Karen Ward  56.0  daniel47@example.com   Congo  83580.8    2022-04-09   \n",
      "\n",
      "    Age_plus_10  \n",
      "23         66.0  \n",
      "\n",
      "Group Name: Cook Islands\n",
      "   Full_Name   Age                       Email       Country    Salary  \\\n",
      "16       NaN  73.0  johnstonkrista@example.com  Cook Islands  24176.12   \n",
      "\n",
      "   DateOfJoining  Age_plus_10  \n",
      "16    2022-10-11         83.0  \n",
      "\n",
      "Group Name: Czech Republic\n",
      "      Full_Name   Age                    Email         Country   Salary  \\\n",
      "87  Nancy Irwin  42.0  juliaweaver@example.net  Czech Republic  29455.0   \n",
      "\n",
      "   DateOfJoining  Age_plus_10  \n",
      "87    2020-07-21         52.0  \n",
      "\n",
      "Group Name: Ecuador\n",
      "      Full_Name   Age              Email  Country    Salary DateOfJoining  \\\n",
      "4   Julie Horne  78.0                NaN  Ecuador  24665.13    2020-06-19   \n",
      "81  Brandi Long  45.0  vford@example.com  Ecuador  30773.53    2020-06-29   \n",
      "\n",
      "    Age_plus_10  \n",
      "4          88.0  \n",
      "81         55.0  \n",
      "\n",
      "Group Name: Equatorial Guinea\n",
      "         Full_Name   Age                     Email            Country  \\\n",
      "96  Elizabeth Ross  52.0  richardlewis@example.net  Equatorial Guinea   \n",
      "\n",
      "      Salary DateOfJoining  Age_plus_10  \n",
      "96  29992.69    2020-04-08         62.0  \n",
      "\n",
      "Group Name: Georgia\n",
      "        Full_Name   Age                     Email  Country    Salary  \\\n",
      "77  Phillip Garza  49.0  brandimclean@example.org  Georgia  34326.41   \n",
      "\n",
      "   DateOfJoining  Age_plus_10  \n",
      "77           NaN         59.0  \n",
      "\n",
      "Group Name: Greece\n",
      "            Full_Name   Age                 Email Country    Salary  \\\n",
      "52  Patrick Brown PhD  44.0   james16@example.net  Greece   83842.6   \n",
      "98     Patricia Singh  65.0  lramirez@example.org  Greece  85290.44   \n",
      "\n",
      "   DateOfJoining  Age_plus_10  \n",
      "52    2020-07-12         54.0  \n",
      "98    2020-03-18         75.0  \n",
      "\n",
      "Group Name: Grenada\n",
      "           Full_Name   Age                  Email  Country    Salary  \\\n",
      "69  Michael Oconnell  19.0  fdelacruz@example.org  Grenada  62929.05   \n",
      "\n",
      "   DateOfJoining  Age_plus_10  \n",
      "69    2022-01-21         29.0  \n",
      "\n",
      "Group Name: Guernsey\n",
      "         Full_Name   Age                 Email   Country    Salary  \\\n",
      "29  Stephanie Moss  61.0  qvaughan@example.com  Guernsey  35671.38   \n",
      "\n",
      "   DateOfJoining  Age_plus_10  \n",
      "29    2021-11-22         71.0  \n",
      "\n",
      "Group Name: Guinea-Bissau\n",
      "       Full_Name   Age                Email        Country    Salary  \\\n",
      "80  David Walker  43.0  linda84@example.net  Guinea-Bissau  89683.17   \n",
      "\n",
      "   DateOfJoining  Age_plus_10  \n",
      "80    2021-06-20         53.0  \n",
      "\n",
      "Group Name: Iceland\n",
      "          Full_Name   Age                 Email  Country    Salary  \\\n",
      "82  Kristi Calderon  80.0  sharon04@example.com  Iceland  99507.66   \n",
      "\n",
      "   DateOfJoining  Age_plus_10  \n",
      "82    2022-07-09         90.0  \n",
      "\n",
      "Group Name: Indonesia\n",
      "   Full_Name   Age Email    Country   Salary DateOfJoining  Age_plus_10\n",
      "90   invalid  43.0   NaN  Indonesia  41928.2    2020-05-08         53.0\n",
      "\n",
      "Group Name: Israel\n",
      "     Full_Name   Age Email Country    Salary DateOfJoining  Age_plus_10\n",
      "33  Laura Pham  69.0   NaN  Israel  45046.19    2024-04-01         79.0\n",
      "\n",
      "Group Name: Italy\n",
      "           Full_Name   Age              Email Country    Salary DateOfJoining  \\\n",
      "3  Kenneth Macdonald  68.0  ewolf@example.com   Italy  84223.29    2022-04-07   \n",
      "\n",
      "   Age_plus_10  \n",
      "3         78.0  \n",
      "\n",
      "Group Name: Kiribati\n",
      "        Full_Name   Age Email   Country    Salary DateOfJoining  Age_plus_10\n",
      "12  Kelly Schultz  21.0   NaN  Kiribati  93448.73    2023-07-24         31.0\n",
      "\n",
      "Group Name: Korea\n",
      "         Full_Name   Age                     Email Country    Salary  \\\n",
      "30  Raven Thompson  77.0  brandibarnes@example.com   Korea  76460.86   \n",
      "88     Joel Martin  76.0     bjacobson@example.com   Korea   invalid   \n",
      "\n",
      "   DateOfJoining  Age_plus_10  \n",
      "30           NaN         87.0  \n",
      "88    2022-05-23         86.0  \n",
      "\n",
      "Group Name: Lesotho\n",
      "         Full_Name   Age Email  Country    Salary DateOfJoining  Age_plus_10\n",
      "55  James Williams  69.0   NaN  Lesotho  84632.67           NaN         79.0\n",
      "\n",
      "Group Name: Luxembourg\n",
      "       Full_Name   Age                   Email     Country    Salary  \\\n",
      "94  Cody Jackson  48.0  jamieayers@example.net  Luxembourg  55583.62   \n",
      "\n",
      "   DateOfJoining  Age_plus_10  \n",
      "94    2021-05-23         58.0  \n",
      "\n",
      "Group Name: Macao\n",
      "   Full_Name   Age                    Email Country    Salary DateOfJoining  \\\n",
      "67       NaN  47.0  stephanie20@example.net   Macao  36365.55           NaN   \n",
      "\n",
      "    Age_plus_10  \n",
      "67         57.0  \n",
      "\n",
      "Group Name: Malawi\n",
      "       Full_Name   Age                    Email Country    Salary  \\\n",
      "89  Lauren Jones  68.0  melissadyer@example.com  Malawi  42435.96   \n",
      "\n",
      "   DateOfJoining  Age_plus_10  \n",
      "89    2020-06-12         78.0  \n",
      "\n",
      "Group Name: Mali\n",
      "          Full_Name   Age Email Country    Salary DateOfJoining  Age_plus_10\n",
      "45  Melanie Buckley  35.0   NaN    Mali  78258.04           NaN         45.0\n",
      "\n",
      "Group Name: Malta\n",
      "        Full_Name   Age                      Email Country   Salary  \\\n",
      "15  Lauren Becker  30.0  watsonjeffrey@example.net   Malta  invalid   \n",
      "\n",
      "   DateOfJoining  Age_plus_10  \n",
      "15    2020-01-13         40.0  \n",
      "\n",
      "Group Name: Mauritania\n",
      "        Full_Name   Age                 Email     Country    Salary  \\\n",
      "93  Alicia Miller  59.0  thomas45@example.net  Mauritania  52834.29   \n",
      "\n",
      "   DateOfJoining  Age_plus_10  \n",
      "93    2020-06-03         69.0  \n",
      "\n",
      "Group Name: Mauritius\n",
      "      Full_Name  Age                 Email    Country   Salary DateOfJoining  \\\n",
      "43  James Davis  NaN  teresa22@example.com  Mauritius  54801.7    2021-07-15   \n",
      "\n",
      "    Age_plus_10  \n",
      "43          NaN  \n",
      "\n",
      "Group Name: Mexico\n",
      "       Full_Name   Age                Email Country    Salary DateOfJoining  \\\n",
      "22    John Hicks  30.0  catkins@example.org  Mexico  80906.51           NaN   \n",
      "38  Lindsey York  38.0                  NaN  Mexico  97896.77    2022-03-05   \n",
      "\n",
      "    Age_plus_10  \n",
      "22         40.0  \n",
      "38         48.0  \n",
      "\n",
      "Group Name: Moldova\n",
      "       Full_Name   Age                    Email  Country    Salary  \\\n",
      "83  Kendra Mason  47.0  megancarter@example.com  Moldova  34369.87   \n",
      "\n",
      "   DateOfJoining  Age_plus_10  \n",
      "83    2023-07-09         57.0  \n",
      "\n",
      "Group Name: Mozambique\n",
      "         Full_Name   Age                   Email     Country    Salary  \\\n",
      "51  Whitney Graham  40.0  zrodriguez@example.org  Mozambique  98826.59   \n",
      "\n",
      "   DateOfJoining  Age_plus_10  \n",
      "51    2023-05-08         50.0  \n",
      "\n",
      "Group Name: Myanmar\n",
      "     Full_Name   Age                      Email  Country    Salary  \\\n",
      "9  Jason Perez  59.0  collinsedward@example.com  Myanmar  20175.11   \n",
      "\n",
      "  DateOfJoining  Age_plus_10  \n",
      "9    2024-04-11         69.0  \n",
      "\n",
      "Group Name: Netherlands\n",
      "          Full_Name   Age                Email      Country    Salary  \\\n",
      "7  Kimberly Roberts  76.0  lmiller@example.org  Netherlands  58550.56   \n",
      "\n",
      "  DateOfJoining  Age_plus_10  \n",
      "7    2023-07-08         86.0  \n",
      "\n",
      "Group Name: Netherlands Antilles\n",
      "             Full_Name   Age                    Email               Country  \\\n",
      "37  Christopher Martin  40.0       tina11@example.com  Netherlands Antilles   \n",
      "74      Whitney Garcia  70.0  tylergolden@example.com  Netherlands Antilles   \n",
      "\n",
      "      Salary DateOfJoining  Age_plus_10  \n",
      "37  81367.57    2020-07-30         50.0  \n",
      "74  68794.39    2022-07-23         80.0  \n",
      "\n",
      "Group Name: Nigeria\n",
      "   Full_Name   Age                    Email  Country    Salary DateOfJoining  \\\n",
      "50       NaN  33.0  robertsmith@example.net  Nigeria  99405.51           NaN   \n",
      "\n",
      "    Age_plus_10  \n",
      "50         43.0  \n",
      "\n",
      "Group Name: Niue\n",
      "        Full_Name   Age               Email Country    Salary DateOfJoining  \\\n",
      "86  David Randall  74.0  cody30@example.net    Niue  43013.14    2024-05-24   \n",
      "\n",
      "    Age_plus_10  \n",
      "86         84.0  \n",
      "\n",
      "Group Name: Philippines\n",
      "                 Full_Name   Age                       Email      Country  \\\n",
      "58  Dr. Olivia Caldwell MD  76.0  hernandezjason@example.com  Philippines   \n",
      "\n",
      "      Salary DateOfJoining  Age_plus_10  \n",
      "58  78453.84    2023-07-19         86.0  \n",
      "\n",
      "Group Name: Reunion\n",
      "        Full_Name   Age                    Email  Country    Salary  \\\n",
      "84  Debbie Romero  58.0  nathaniel61@example.net  Reunion  39875.14   \n",
      "\n",
      "   DateOfJoining  Age_plus_10  \n",
      "84    2023-02-11         68.0  \n",
      "\n",
      "Group Name: Saint Barthelemy\n",
      "      Full_Name   Age                Email           Country    Salary  \\\n",
      "59  Diane Smith  57.0  david44@example.net  Saint Barthelemy  86579.95   \n",
      "\n",
      "   DateOfJoining  Age_plus_10  \n",
      "59    2020-07-27         67.0  \n",
      "\n",
      "Group Name: Serbia\n",
      "        Full_Name   Age                  Email Country   Salary DateOfJoining  \\\n",
      "20  Dylan Simpson  46.0  jessica74@example.net  Serbia  59670.5    2021-10-31   \n",
      "\n",
      "    Age_plus_10  \n",
      "20         56.0  \n",
      "\n",
      "Group Name: Slovakia (Slovak Republic)\n",
      "       Full_Name   Age                   Email                     Country  \\\n",
      "92  Seth Bradley  76.0  melissakim@example.org  Slovakia (Slovak Republic)   \n",
      "\n",
      "      Salary DateOfJoining  Age_plus_10  \n",
      "92  49354.13    2021-08-01         86.0  \n",
      "\n",
      "Group Name: Solomon Islands\n",
      "           Full_Name   Age               Email          Country    Salary  \\\n",
      "95  Garrett Davidson  56.0  gjames@example.com  Solomon Islands  86227.88   \n",
      "\n",
      "   DateOfJoining  Age_plus_10  \n",
      "95           NaN         66.0  \n",
      "\n",
      "Group Name: Somalia\n",
      "   Full_Name   Age                Email  Country    Salary DateOfJoining  \\\n",
      "97       NaN  72.0  brian50@example.com  Somalia  90628.22    2020-04-11   \n",
      "\n",
      "    Age_plus_10  \n",
      "97         82.0  \n",
      "\n",
      "Group Name: South Africa\n",
      "             Full_Name   Age                        Email       Country  \\\n",
      "10       Olivia Strong  76.0  schultzpatricia@example.com  South Africa   \n",
      "99  Christopher Stokes  42.0                          NaN  South Africa   \n",
      "\n",
      "      Salary DateOfJoining  Age_plus_10  \n",
      "10  72362.02    2023-07-27         86.0  \n",
      "99  20289.17    2021-09-23         52.0  \n",
      "\n",
      "Group Name: Sri Lanka\n",
      "        Full_Name   Age                        Email    Country    Salary  \\\n",
      "35  Rebecca Davis  35.0  wallacejennifer@example.net  Sri Lanka  66871.64   \n",
      "\n",
      "   DateOfJoining  Age_plus_10  \n",
      "35    2022-08-06         45.0  \n",
      "\n",
      "Group Name: Sudan\n",
      "          Full_Name   Age                      Email Country    Salary  \\\n",
      "65              NaN  68.0     guyjohnson@example.com   Sudan  80279.35   \n",
      "78  Tabitha Delgado  74.0  lancewilliams@example.net   Sudan  98396.21   \n",
      "\n",
      "   DateOfJoining  Age_plus_10  \n",
      "65    2022-10-21         78.0  \n",
      "78    2022-04-03         84.0  \n",
      "\n",
      "Group Name: Switzerland\n",
      "  Full_Name   Age                Email      Country    Salary DateOfJoining  \\\n",
      "0   invalid  59.0  ycastro@example.org  Switzerland  44694.24    2022-09-29   \n",
      "\n",
      "   Age_plus_10  \n",
      "0         69.0  \n",
      "\n",
      "Group Name: Syrian Arab Republic\n",
      "   Full_Name   Age                        Email               Country  \\\n",
      "27       NaN  71.0  gillespiecalvin@example.net  Syrian Arab Republic   \n",
      "\n",
      "      Salary DateOfJoining  Age_plus_10  \n",
      "27  71049.67    2020-01-20         81.0  \n",
      "\n",
      "Group Name: Tanzania\n",
      "       Full_Name   Age              Email   Country    Salary DateOfJoining  \\\n",
      "44  Brandi White  35.0  mhall@example.net  Tanzania  21408.87    2020-11-26   \n",
      "\n",
      "    Age_plus_10  \n",
      "44         45.0  \n",
      "\n",
      "Group Name: Timor-Leste\n",
      "        Full_Name   Age                      Email      Country    Salary  \\\n",
      "68  Justin Wright  29.0  elizabethreid@example.org  Timor-Leste  28951.24   \n",
      "\n",
      "   DateOfJoining  Age_plus_10  \n",
      "68    2020-02-21         39.0  \n",
      "\n",
      "Group Name: Trinidad and Tobago\n",
      "   Full_Name  Age                   Email              Country    Salary  \\\n",
      "75   invalid  NaN  ericnguyen@example.com  Trinidad and Tobago  49670.61   \n",
      "\n",
      "   DateOfJoining  Age_plus_10  \n",
      "75    2020-11-22          NaN  \n",
      "\n",
      "Group Name: Turkmenistan\n",
      "              Full_Name   Age                     Email       Country  \\\n",
      "85  Elizabeth Wilkinson  66.0  gailmcdonald@example.org  Turkmenistan   \n",
      "\n",
      "      Salary DateOfJoining  Age_plus_10  \n",
      "85  69624.01    2023-05-19         76.0  \n",
      "\n",
      "Group Name: Turks and Caicos Islands\n",
      "         Full_Name   Age                Email                   Country  \\\n",
      "60  Thomas Navarro  50.0  psnyder@example.org  Turks and Caicos Islands   \n",
      "\n",
      "      Salary DateOfJoining  Age_plus_10  \n",
      "60  86286.69    2020-11-03         60.0  \n",
      "\n",
      "Group Name: Uganda\n",
      "        Full_Name   Age                  Email Country    Salary  \\\n",
      "49  Amber Mendoza  64.0  qrobinson@example.com  Uganda  47293.85   \n",
      "\n",
      "   DateOfJoining  Age_plus_10  \n",
      "49    2021-05-27         74.0  \n",
      "\n",
      "Group Name: Venezuela\n",
      "   Full_Name  Age                Email    Country    Salary DateOfJoining  \\\n",
      "17       NaN  NaN  julia08@example.com  Venezuela  93339.52    2020-11-11   \n",
      "\n",
      "    Age_plus_10  \n",
      "17          NaN  \n",
      "\n",
      "Group Name: Yemen\n",
      "       Full_Name   Age                  Email Country    Salary DateOfJoining  \\\n",
      "62           NaN  24.0  katelyn76@example.net   Yemen  61256.89    2020-01-06   \n",
      "66  Karen Peters  58.0   ricelisa@example.net   Yemen  36736.59           NaN   \n",
      "\n",
      "    Age_plus_10  \n",
      "62         34.0  \n",
      "66         68.0  \n",
      "\n",
      "Group Name: Zambia\n",
      "       Full_Name   Age                 Email Country    Salary DateOfJoining  \\\n",
      "39  Lauren Ramos  80.0  tracey07@example.net  Zambia  74110.67           NaN   \n",
      "\n",
      "    Age_plus_10  \n",
      "39         90.0  \n",
      "\n",
      "Group Name: invalid\n",
      "           Full_Name   Age                  Email  Country    Salary  \\\n",
      "70  Christina Garcia  40.0  kathryn18@example.org  invalid  73916.51   \n",
      "\n",
      "   DateOfJoining  Age_plus_10  \n",
      "70    2023-11-13         50.0  \n"
     ]
    }
   ],
   "source": [
    "for name, group in df_csv.groupby('Country'):\n",
    "    print(\"\\nGroup Name:\", name)\n",
    "    print(group)"
   ]
  },
  {
   "cell_type": "markdown",
   "metadata": {},
   "source": [
    "# Task 7: Merging and Joining DataFrames"
   ]
  },
  {
   "cell_type": "markdown",
   "metadata": {},
   "source": [
    "- Creating example DataFrames to merge and join"
   ]
  },
  {
   "cell_type": "code",
   "execution_count": 117,
   "metadata": {},
   "outputs": [],
   "source": [
    "data1 = {'Name': ['Alice', 'Bob'], 'Age': [25, 30]}\n",
    "data2 = {'Name': ['Alice', 'Bob'], 'City': ['NY', 'LA']}\n",
    "df1 = pd.DataFrame(data1)\n",
    "df2 = pd.DataFrame(data2)"
   ]
  },
  {
   "cell_type": "markdown",
   "metadata": {},
   "source": [
    "- Merge two DataFrames on a common column"
   ]
  },
  {
   "cell_type": "code",
   "execution_count": 118,
   "metadata": {},
   "outputs": [
    {
     "name": "stdout",
     "output_type": "stream",
     "text": [
      "\n",
      "Merged DataFrame:\n",
      "     Name  Age City\n",
      "0  Alice   25   NY\n",
      "1    Bob   30   LA\n"
     ]
    }
   ],
   "source": [
    "merged_df = pd.merge(df1, df2, on='Name', how='inner')\n",
    "print(\"\\nMerged DataFrame:\\n\", merged_df)"
   ]
  },
  {
   "cell_type": "markdown",
   "metadata": {},
   "source": [
    "- Join two DataFrames using their indices"
   ]
  },
  {
   "cell_type": "code",
   "execution_count": 119,
   "metadata": {},
   "outputs": [
    {
     "name": "stdout",
     "output_type": "stream",
     "text": [
      "\n",
      "Joined DataFrame:\n",
      "        Age City\n",
      "Name           \n",
      "Alice   25   NY\n",
      "Bob     30   LA\n"
     ]
    }
   ],
   "source": [
    "joined_df = df1.set_index('Name').join(df2.set_index('Name'))\n",
    "print(\"\\nJoined DataFrame:\\n\", joined_df)"
   ]
  },
  {
   "cell_type": "markdown",
   "metadata": {},
   "source": [
    "# Task 8: Working with Dates and Times"
   ]
  },
  {
   "cell_type": "markdown",
   "metadata": {},
   "source": [
    "- Create a datetime index for the DataFrame"
   ]
  },
  {
   "cell_type": "code",
   "execution_count": 120,
   "metadata": {},
   "outputs": [
    {
     "name": "stdout",
     "output_type": "stream",
     "text": [
      "\n",
      "DataFrame with Datetime Index:\n",
      "                        Full_Name   Age                Email      Country  \\\n",
      "DateOfJoining                                                              \n",
      "2022-09-29               invalid  59.0  ycastro@example.org  Switzerland   \n",
      "2021-10-04       David Jefferson  21.0                  NaN        China   \n",
      "2022-05-24         Jessica Reyes  34.0                  NaN          NaN   \n",
      "2022-04-07     Kenneth Macdonald  68.0    ewolf@example.com        Italy   \n",
      "2020-06-19           Julie Horne  78.0                  NaN      Ecuador   \n",
      "\n",
      "                 Salary  Age_plus_10  \n",
      "DateOfJoining                         \n",
      "2022-09-29     44694.24         69.0  \n",
      "2021-10-04          NaN         31.0  \n",
      "2022-05-24     60511.62         44.0  \n",
      "2022-04-07     84223.29         78.0  \n",
      "2020-06-19     24665.13         88.0  \n"
     ]
    }
   ],
   "source": [
    "df_csv['DateOfJoining'] = pd.to_datetime(df_csv['DateOfJoining'], errors='coerce')\n",
    "df_csv.set_index('DateOfJoining', inplace=True)\n",
    "print(\"\\nDataFrame with Datetime Index:\\n\", df_csv.head())"
   ]
  },
  {
   "cell_type": "markdown",
   "metadata": {},
   "source": [
    "- Convert a column to datetime and extract date components"
   ]
  },
  {
   "cell_type": "code",
   "execution_count": 121,
   "metadata": {},
   "outputs": [
    {
     "name": "stdout",
     "output_type": "stream",
     "text": [
      "\n",
      "DataFrame with Date Components:\n",
      "                        Full_Name   Age                Email      Country  \\\n",
      "DateOfJoining                                                              \n",
      "2022-09-29               invalid  59.0  ycastro@example.org  Switzerland   \n",
      "2021-10-04       David Jefferson  21.0                  NaN        China   \n",
      "2022-05-24         Jessica Reyes  34.0                  NaN          NaN   \n",
      "2022-04-07     Kenneth Macdonald  68.0    ewolf@example.com        Italy   \n",
      "2020-06-19           Julie Horne  78.0                  NaN      Ecuador   \n",
      "\n",
      "                 Salary  Age_plus_10    Year  Month   Day  \n",
      "DateOfJoining                                              \n",
      "2022-09-29     44694.24         69.0  2022.0    9.0  29.0  \n",
      "2021-10-04          NaN         31.0  2021.0   10.0   4.0  \n",
      "2022-05-24     60511.62         44.0  2022.0    5.0  24.0  \n",
      "2022-04-07     84223.29         78.0  2022.0    4.0   7.0  \n",
      "2020-06-19     24665.13         88.0  2020.0    6.0  19.0  \n"
     ]
    }
   ],
   "source": [
    "df_csv['Year'] = df_csv.index.year\n",
    "df_csv['Month'] = df_csv.index.month\n",
    "df_csv['Day'] = df_csv.index.day\n",
    "print(\"\\nDataFrame with Date Components:\\n\", df_csv.head())"
   ]
  },
  {
   "cell_type": "markdown",
   "metadata": {},
   "source": [
    "# Task 9: Input and Output"
   ]
  },
  {
   "cell_type": "markdown",
   "metadata": {},
   "source": [
    "- Read data from a CSV file into a DataFrame"
   ]
  },
  {
   "cell_type": "code",
   "execution_count": 122,
   "metadata": {},
   "outputs": [
    {
     "name": "stdout",
     "output_type": "stream",
     "text": [
      "\n",
      "DataFrame from CSV:\n",
      "                 Name   Age                Email      Country    Salary  \\\n",
      "0            invalid  59.0  ycastro@example.org  Switzerland  44694.24   \n",
      "1    David Jefferson  21.0                  NaN        China       NaN   \n",
      "2      Jessica Reyes  34.0                  NaN          NaN  60511.62   \n",
      "3  Kenneth Macdonald  68.0    ewolf@example.com        Italy  84223.29   \n",
      "4        Julie Horne  78.0                  NaN      Ecuador  24665.13   \n",
      "\n",
      "  DateOfJoining  \n",
      "0    2022-09-29  \n",
      "1    2021-10-04  \n",
      "2    2022-05-24  \n",
      "3    2022-04-07  \n",
      "4    2020-06-19  \n"
     ]
    }
   ],
   "source": [
    "df_from_csv = pd.read_csv('messed_dataset.csv')\n",
    "print(\"\\nDataFrame from CSV:\\n\", df_from_csv.head())"
   ]
  },
  {
   "cell_type": "markdown",
   "metadata": {},
   "source": [
    "- Write the DataFrame to a CSV file"
   ]
  },
  {
   "cell_type": "code",
   "execution_count": 123,
   "metadata": {},
   "outputs": [
    {
     "name": "stdout",
     "output_type": "stream",
     "text": [
      "\n",
      "CSV file written.\n"
     ]
    }
   ],
   "source": [
    "df_from_csv.to_csv('output.csv', index=False)\n",
    "print(\"\\nCSV file written.\")"
   ]
  },
  {
   "cell_type": "markdown",
   "metadata": {},
   "source": [
    "- Read data from an Excel file into a DataFrame"
   ]
  },
  {
   "cell_type": "code",
   "execution_count": 124,
   "metadata": {},
   "outputs": [
    {
     "name": "stdout",
     "output_type": "stream",
     "text": [
      "\n",
      "DataFrame from Excel:\n",
      "    OrderDate   Region  Manager   SalesMan          Item  Units  Unit_price  \\\n",
      "0 2018-01-06     East   Martha  Alexander    Television   95.0      1198.0   \n",
      "1 2018-01-23  Central  Hermann     Shelli  Home Theater   50.0       500.0   \n",
      "2 2018-02-09  Central  Hermann       Luis    Television   36.0      1198.0   \n",
      "3 2018-02-26  Central  Timothy      David    Cell Phone   27.0       225.0   \n",
      "4 2018-03-15     West  Timothy    Stephen    Television   56.0      1198.0   \n",
      "\n",
      "   Sale_amt  \n",
      "0  113810.0  \n",
      "1   25000.0  \n",
      "2   43128.0  \n",
      "3    6075.0  \n",
      "4   67088.0  \n"
     ]
    }
   ],
   "source": [
    "df_from_excel = pd.read_excel('SaleData.xlsx')\n",
    "print(\"\\nDataFrame from Excel:\\n\", df_from_excel.head())"
   ]
  },
  {
   "cell_type": "markdown",
   "metadata": {},
   "source": [
    "- Write the DataFrame to an Excel file"
   ]
  },
  {
   "cell_type": "code",
   "execution_count": 125,
   "metadata": {},
   "outputs": [
    {
     "name": "stdout",
     "output_type": "stream",
     "text": [
      "\n",
      "Excel file written.\n"
     ]
    }
   ],
   "source": [
    "df_from_excel.to_excel('output.xlsx', index=False)\n",
    "print(\"\\nExcel file written.\")"
   ]
  },
  {
   "cell_type": "markdown",
   "metadata": {},
   "source": [
    "# Task 10: Visualization"
   ]
  },
  {
   "cell_type": "markdown",
   "metadata": {},
   "source": [
    "- Create a simple plot using Matplotlib"
   ]
  },
  {
   "cell_type": "code",
   "execution_count": 126,
   "metadata": {},
   "outputs": [
    {
     "data": {
      "image/png": "[encoded data removed]",
      "text/plain": [
       "<Figure size 1000x500 with 1 Axes>"
      ]
     },
     "metadata": {},
     "output_type": "display_data"
    }
   ],
   "source": [
    "plt.figure(figsize=(10, 5))\n",
    "df_from_csv['Age'].hist()\n",
    "plt.title('Age Distribution')\n",
    "plt.xlabel('Age')\n",
    "plt.ylabel('Frequency')\n",
    "plt.show()\n"
   ]
  },
  {
   "cell_type": "markdown",
   "metadata": {},
   "source": [
    "- Create a bar plot using Seaborn"
   ]
  },
  {
   "cell_type": "code",
   "execution_count": 129,
   "metadata": {},
   "outputs": [
    {
     "data": {
      "image/png": "[encoded data removed]",
      "text/plain": [
       "<Figure size 1000x500 with 1 Axes>"
      ]
     },
     "metadata": {},
     "output_type": "display_data"
    }
   ],
   "source": [
    "plt.figure(figsize=(10, 5))\n",
    "sns.barplot(x='Country', y='Salary', data=df_from_csv)\n",
    "plt.title('Average Salary by Country')\n",
    "plt.xticks(rotation=90)\n",
    "plt.show()\n"
   ]
  }
 ],
 "metadata": {
  "kernelspec": {
   "display_name": "Python 3 (ipykernel)",
   "language": "python",
   "name": "python3"
  }
 },
 "nbformat": 4,
 "nbformat_minor": 2
}
